{
 "cells": [
  {
   "cell_type": "markdown",
   "id": "a0c71678-ca42-491e-a1d4-ee8a56f6594d",
   "metadata": {},
   "source": [
    "<div style=\"text-align: center; font-size: 24px; font-weight: bold;\">Your Title Here</div>\n",
    "\n"
   ]
  },
  {
   "cell_type": "code",
   "execution_count": 1,
   "id": "b003f62d-cfc4-4921-934e-74aa2f12efad",
   "metadata": {},
   "outputs": [],
   "source": [
    "%load_ext autoreload\n",
    "%autoreload 2"
   ]
  },
  {
   "cell_type": "code",
   "execution_count": 8,
   "id": "a54dfa8b-7e45-4865-9770-bc06ba0d70ac",
   "metadata": {},
   "outputs": [],
   "source": [
    "import os\n",
    "from dotenv import load_dotenv\n",
    "\n",
    "from mle import example"
   ]
  },
  {
   "cell_type": "code",
   "execution_count": 3,
   "id": "0c17ef46-2c2f-4fb1-82ae-75d3dde128b8",
   "metadata": {},
   "outputs": [
    {
     "name": "stdout",
     "output_type": "stream",
     "text": [
      "Hello World!\n"
     ]
    }
   ],
   "source": [
    "example.hello_world()"
   ]
  },
  {
   "cell_type": "code",
   "execution_count": 9,
   "id": "b412ec81-1810-4a12-89b1-e1f0ba5419ea",
   "metadata": {},
   "outputs": [
    {
     "data": {
      "text/plain": [
       "'123ABC'"
      ]
     },
     "execution_count": 9,
     "metadata": {},
     "output_type": "execute_result"
    }
   ],
   "source": [
    "load_dotenv()\n",
    "os.environ['ENVIRONMENT_VAR']"
   ]
  },
  {
   "cell_type": "code",
   "execution_count": null,
   "id": "84d3afb6-c1d9-4696-8f52-01e1efde5cea",
   "metadata": {},
   "outputs": [],
   "source": []
  }
 ],
 "metadata": {
  "kernelspec": {
   "display_name": "Python 3 (ipykernel)",
   "language": "python",
   "name": "python3"
  },
  "language_info": {
   "codemirror_mode": {
    "name": "ipython",
    "version": 3
   },
   "file_extension": ".py",
   "mimetype": "text/x-python",
   "name": "python",
   "nbconvert_exporter": "python",
   "pygments_lexer": "ipython3",
   "version": "3.10.14"
  }
 },
 "nbformat": 4,
 "nbformat_minor": 5
}
